{
 "cells": [
  {
   "cell_type": "code",
   "execution_count": 1,
   "metadata": {},
   "outputs": [],
   "source": [
    "import pandas as pd\n",
    "\n",
    "data = pd.read_csv('../archive/gz2_filename_mapping.csv')"
   ]
  },
  {
   "cell_type": "code",
   "execution_count": 2,
   "metadata": {},
   "outputs": [],
   "source": [
    "# everything that isn't a original sample\n",
    "data_2 = data[data['sample'] != 'original']"
   ]
  },
  {
   "cell_type": "code",
   "execution_count": 3,
   "metadata": {},
   "outputs": [
    {
     "data": {
      "text/html": [
       "<div>\n",
       "<style scoped>\n",
       "    .dataframe tbody tr th:only-of-type {\n",
       "        vertical-align: middle;\n",
       "    }\n",
       "\n",
       "    .dataframe tbody tr th {\n",
       "        vertical-align: top;\n",
       "    }\n",
       "\n",
       "    .dataframe thead th {\n",
       "        text-align: right;\n",
       "    }\n",
       "</style>\n",
       "<table border=\"1\" class=\"dataframe\">\n",
       "  <thead>\n",
       "    <tr style=\"text-align: right;\">\n",
       "      <th></th>\n",
       "      <th>objid</th>\n",
       "      <th>sample</th>\n",
       "      <th>asset_id</th>\n",
       "    </tr>\n",
       "  </thead>\n",
       "  <tbody>\n",
       "    <tr>\n",
       "      <th>245609</th>\n",
       "      <td>587722981736054938</td>\n",
       "      <td>extra</td>\n",
       "      <td>245610</td>\n",
       "    </tr>\n",
       "    <tr>\n",
       "      <th>245610</th>\n",
       "      <td>587722981739069541</td>\n",
       "      <td>extra</td>\n",
       "      <td>245611</td>\n",
       "    </tr>\n",
       "    <tr>\n",
       "      <th>245611</th>\n",
       "      <td>587722981741428877</td>\n",
       "      <td>extra</td>\n",
       "      <td>245612</td>\n",
       "    </tr>\n",
       "    <tr>\n",
       "      <th>245612</th>\n",
       "      <td>587722981742542987</td>\n",
       "      <td>extra</td>\n",
       "      <td>245613</td>\n",
       "    </tr>\n",
       "    <tr>\n",
       "      <th>245613</th>\n",
       "      <td>587722981742936247</td>\n",
       "      <td>extra</td>\n",
       "      <td>245614</td>\n",
       "    </tr>\n",
       "    <tr>\n",
       "      <th>...</th>\n",
       "      <td>...</td>\n",
       "      <td>...</td>\n",
       "      <td>...</td>\n",
       "    </tr>\n",
       "    <tr>\n",
       "      <th>355985</th>\n",
       "      <td>8647475122541625731</td>\n",
       "      <td>stripe82_coadd_2</td>\n",
       "      <td>355986</td>\n",
       "    </tr>\n",
       "    <tr>\n",
       "      <th>355986</th>\n",
       "      <td>8647475122541625762</td>\n",
       "      <td>stripe82_coadd_2</td>\n",
       "      <td>355987</td>\n",
       "    </tr>\n",
       "    <tr>\n",
       "      <th>355987</th>\n",
       "      <td>8647475122541625774</td>\n",
       "      <td>stripe82_coadd_2</td>\n",
       "      <td>355988</td>\n",
       "    </tr>\n",
       "    <tr>\n",
       "      <th>355988</th>\n",
       "      <td>8647475122761762019</td>\n",
       "      <td>stripe82_coadd_2</td>\n",
       "      <td>355989</td>\n",
       "    </tr>\n",
       "    <tr>\n",
       "      <th>355989</th>\n",
       "      <td>8647475122761762804</td>\n",
       "      <td>stripe82_coadd_2</td>\n",
       "      <td>355990</td>\n",
       "    </tr>\n",
       "  </tbody>\n",
       "</table>\n",
       "<p>110381 rows × 3 columns</p>\n",
       "</div>"
      ],
      "text/plain": [
       "                      objid            sample  asset_id\n",
       "245609   587722981736054938             extra    245610\n",
       "245610   587722981739069541             extra    245611\n",
       "245611   587722981741428877             extra    245612\n",
       "245612   587722981742542987             extra    245613\n",
       "245613   587722981742936247             extra    245614\n",
       "...                     ...               ...       ...\n",
       "355985  8647475122541625731  stripe82_coadd_2    355986\n",
       "355986  8647475122541625762  stripe82_coadd_2    355987\n",
       "355987  8647475122541625774  stripe82_coadd_2    355988\n",
       "355988  8647475122761762019  stripe82_coadd_2    355989\n",
       "355989  8647475122761762804  stripe82_coadd_2    355990\n",
       "\n",
       "[110381 rows x 3 columns]"
      ]
     },
     "execution_count": 3,
     "metadata": {},
     "output_type": "execute_result"
    }
   ],
   "source": [
    "data_2"
   ]
  },
  {
   "cell_type": "code",
   "execution_count": null,
   "metadata": {},
   "outputs": [],
   "source": []
  }
 ],
 "metadata": {
  "kernelspec": {
   "display_name": "env",
   "language": "python",
   "name": "python3"
  },
  "language_info": {
   "codemirror_mode": {
    "name": "ipython",
    "version": 3
   },
   "file_extension": ".py",
   "mimetype": "text/x-python",
   "name": "python",
   "nbconvert_exporter": "python",
   "pygments_lexer": "ipython3",
   "version": "3.12.4"
  }
 },
 "nbformat": 4,
 "nbformat_minor": 2
}
